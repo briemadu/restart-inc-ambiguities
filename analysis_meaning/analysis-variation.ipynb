{
 "cells": [
  {
   "cell_type": "markdown",
   "metadata": {},
   "source": [
    "# Brief Analysis of the Variation\n",
    "\n",
    "This notebook produces the upper part of the first table.\n",
    "\n",
    "We compute how much, on average, token $t+i$ impacts token $t$, for $i=1, \\dots, T$.\n",
    "Variation is computed by the cosine distance to the state of token t in the previous time step (i.e. the diagonal $-i$ in the chart).\n",
    "\n",
    "We use only the last layer, as that is mainly what is supposed to be used for subsequent predictions.\n",
    "\n",
    "We only look at the unambiguous stimuli, to have numbers on more \"standard\" sentences and then compare to the ambiguous cases in the end."
   ]
  },
  {
   "cell_type": "code",
   "execution_count": 1,
   "metadata": {},
   "outputs": [
    {
     "name": "stderr",
     "output_type": "stream",
     "text": [
      "/tmp/ipykernel_2092680/2213993791.py:6: DeprecationWarning: \n",
      "Pyarrow will become a required dependency of pandas in the next major release of pandas (pandas 3.0),\n",
      "(to allow more performant data types, such as the Arrow string type, and better interoperability with other libraries)\n",
      "but was not found to be installed on your system.\n",
      "If this would cause problems for you,\n",
      "please provide us feedback at https://github.com/pandas-dev/pandas/issues/54466\n",
      "        \n",
      "  import pandas as pd\n",
      "/home/users/blasota/anaconda3/envs/restart-inc/lib/python3.9/site-packages/tqdm/auto.py:21: TqdmWarning: IProgress not found. Please update jupyter and ipywidgets. See https://ipywidgets.readthedocs.io/en/stable/user_install.html\n",
      "  from .autonotebook import tqdm as notebook_tqdm\n"
     ]
    }
   ],
   "source": [
    "from pathlib import Path\n",
    "\n",
    "import h5py\n",
    "import matplotlib.pyplot as plt\n",
    "import numpy as np\n",
    "import pandas as pd\n",
    "import seaborn as sns\n",
    "from sklearn.metrics.pairwise import paired_distances\n",
    "from tqdm import tqdm\n",
    "\n",
    "from incstates import IncStatesAnalyser\n",
    "from utils import METRIC"
   ]
  },
  {
   "cell_type": "code",
   "execution_count": 2,
   "metadata": {},
   "outputs": [],
   "source": [
    "MODEL = 'bert'\n",
    "SELECTED_LAYER = 12\n",
    "T = 10\n",
    "REFERENCE = 'previous'\n",
    "\n",
    "TRIANGLES_PATH = './outputs/triangles/'\n",
    "STATES_PATH = './outputs/embeddings/'\n",
    "DATA_PATH = './outputs/preprocessed_stimuli.csv'\n",
    "\n",
    "SOURCES = ['nnc', 'classic-nps', 'classic-mvrr']"
   ]
  },
  {
   "cell_type": "code",
   "execution_count": 3,
   "metadata": {},
   "outputs": [],
   "source": [
    "data_df = pd.read_csv(DATA_PATH, index_col=0)"
   ]
  },
  {
   "cell_type": "code",
   "execution_count": 4,
   "metadata": {},
   "outputs": [],
   "source": [
    "def dist_func(*x):\n",
    "    \"\"\"Return a specific distance function between two vectors.\"\"\"\n",
    "    return paired_distances(*x, metric=METRIC) \n",
    "\n",
    "\n",
    "def get_objects(sentence_type):\n",
    "    objs = {}\n",
    "    for source in SOURCES:\n",
    "\n",
    "        with h5py.File(Path(f'{STATES_PATH}{MODEL}_{source}_embeddings.h5'), 'r') as f:\n",
    "            prisms = {key: value[:] for key, value in f.items()}\n",
    "\n",
    "        with h5py.File(Path(f'{TRIANGLES_PATH}{MODEL}_{source}_{METRIC}.h5'), 'r') as f:\n",
    "            triangles = {key: value[:] for key, value in f.items()}\n",
    "        \n",
    "        source_df = data_df[data_df.source == source]\n",
    "        objs[source] = {}\n",
    "\n",
    "        for key, states in tqdm(prisms.items(), desc=source):\n",
    "            if key.split('_')[1] != sentence_type:\n",
    "                continue\n",
    "\n",
    "            sentence = source_df.loc[int(key.split('_')[0])].stimulus\n",
    "\n",
    "            obj_stimulus = IncStatesAnalyser(sentence,\n",
    "                                             states=states,\n",
    "                                             tokenized=True)\n",
    "            obj_stimulus.inc_charts = {REFERENCE: triangles[f'{key}_{REFERENCE}']}\n",
    "            objs[source][key] = obj_stimulus\n",
    "\n",
    "    return objs"
   ]
  },
  {
   "cell_type": "markdown",
   "metadata": {},
   "source": [
    "## Variation on unambiguous sentences\n",
    "\n",
    "Create the objects with the triangular charts filled with the distance to the previous state:"
   ]
  },
  {
   "cell_type": "code",
   "execution_count": 5,
   "metadata": {},
   "outputs": [
    {
     "name": "stderr",
     "output_type": "stream",
     "text": [
      "nnc: 100%|██████████| 534/534 [00:00<00:00, 19993.74it/s]\n",
      "classic-nps: 100%|██████████| 38/38 [00:00<00:00, 19804.12it/s]\n",
      "classic-mvrr: 100%|██████████| 40/40 [00:00<00:00, 16315.49it/s]\n"
     ]
    }
   ],
   "source": [
    "objs = get_objects(sentence_type='baseline')"
   ]
  },
  {
   "cell_type": "code",
   "execution_count": 6,
   "metadata": {},
   "outputs": [],
   "source": [
    "changes_df = pd.DataFrame(columns=['source', 't', 'value'])\n",
    "\n",
    "for source, states_dic in objs.items():\n",
    "    for obj in states_dic.values():\n",
    "        \n",
    "        chart = obj.inc_charts[REFERENCE][SELECTED_LAYER]\n",
    "        for t in range(1, T+1):\n",
    "            diag_vars = chart.diagonal(-t)\n",
    "            for value in diag_vars:\n",
    "                changes_df.loc[len(changes_df.index)] = [source, t, value]"
   ]
  },
  {
   "cell_type": "code",
   "execution_count": 7,
   "metadata": {},
   "outputs": [
    {
     "data": {
      "text/html": [
       "<div>\n",
       "<style scoped>\n",
       "    .dataframe tbody tr th:only-of-type {\n",
       "        vertical-align: middle;\n",
       "    }\n",
       "\n",
       "    .dataframe tbody tr th {\n",
       "        vertical-align: top;\n",
       "    }\n",
       "\n",
       "    .dataframe thead th {\n",
       "        text-align: right;\n",
       "    }\n",
       "</style>\n",
       "<table border=\"1\" class=\"dataframe\">\n",
       "  <thead>\n",
       "    <tr style=\"text-align: right;\">\n",
       "      <th>t</th>\n",
       "      <th>1</th>\n",
       "      <th>2</th>\n",
       "      <th>3</th>\n",
       "      <th>4</th>\n",
       "      <th>5</th>\n",
       "      <th>6</th>\n",
       "      <th>7</th>\n",
       "      <th>8</th>\n",
       "      <th>9</th>\n",
       "      <th>10</th>\n",
       "    </tr>\n",
       "    <tr>\n",
       "      <th>source</th>\n",
       "      <th></th>\n",
       "      <th></th>\n",
       "      <th></th>\n",
       "      <th></th>\n",
       "      <th></th>\n",
       "      <th></th>\n",
       "      <th></th>\n",
       "      <th></th>\n",
       "      <th></th>\n",
       "      <th></th>\n",
       "    </tr>\n",
       "  </thead>\n",
       "  <tbody>\n",
       "    <tr>\n",
       "      <th>classic-mvrr</th>\n",
       "      <td>0.380707</td>\n",
       "      <td>0.090510</td>\n",
       "      <td>0.050699</td>\n",
       "      <td>0.039913</td>\n",
       "      <td>0.035920</td>\n",
       "      <td>0.030198</td>\n",
       "      <td>0.028787</td>\n",
       "      <td>0.026716</td>\n",
       "      <td>0.022102</td>\n",
       "      <td>0.019006</td>\n",
       "    </tr>\n",
       "    <tr>\n",
       "      <th>classic-nps</th>\n",
       "      <td>0.386543</td>\n",
       "      <td>0.098241</td>\n",
       "      <td>0.066038</td>\n",
       "      <td>0.046451</td>\n",
       "      <td>0.034889</td>\n",
       "      <td>0.026420</td>\n",
       "      <td>0.020836</td>\n",
       "      <td>0.018464</td>\n",
       "      <td>0.017144</td>\n",
       "      <td>0.017576</td>\n",
       "    </tr>\n",
       "    <tr>\n",
       "      <th>nnc</th>\n",
       "      <td>0.342691</td>\n",
       "      <td>0.115953</td>\n",
       "      <td>0.151056</td>\n",
       "      <td>0.130156</td>\n",
       "      <td>NaN</td>\n",
       "      <td>NaN</td>\n",
       "      <td>NaN</td>\n",
       "      <td>NaN</td>\n",
       "      <td>NaN</td>\n",
       "      <td>NaN</td>\n",
       "    </tr>\n",
       "  </tbody>\n",
       "</table>\n",
       "</div>"
      ],
      "text/plain": [
       "t                   1         2         3         4         5         6   \\\n",
       "source                                                                     \n",
       "classic-mvrr  0.380707  0.090510  0.050699  0.039913  0.035920  0.030198   \n",
       "classic-nps   0.386543  0.098241  0.066038  0.046451  0.034889  0.026420   \n",
       "nnc           0.342691  0.115953  0.151056  0.130156       NaN       NaN   \n",
       "\n",
       "t                   7         8         9         10  \n",
       "source                                                \n",
       "classic-mvrr  0.028787  0.026716  0.022102  0.019006  \n",
       "classic-nps   0.020836  0.018464  0.017144  0.017576  \n",
       "nnc                NaN       NaN       NaN       NaN  "
      ]
     },
     "execution_count": 7,
     "metadata": {},
     "output_type": "execute_result"
    }
   ],
   "source": [
    "table = changes_df.groupby(['source', 't']).mean().reset_index().pivot_table(columns='t', index='source').droplevel(0, axis=1)\n",
    "table"
   ]
  },
  {
   "cell_type": "code",
   "execution_count": 8,
   "metadata": {},
   "outputs": [
    {
     "name": "stdout",
     "output_type": "stream",
     "text": [
      "\\begin{tabular}{lrrrrrrr}\n",
      "\\toprule\n",
      "t & 1 & 2 & 3 & 4 & 5 & 6 & 7 \\\\\n",
      "source &  &  &  &  &  &  &  \\\\\n",
      "\\midrule\n",
      "classic-mvrr & 0.38 & 0.09 & 0.05 & 0.04 & 0.04 & 0.03 & 0.03 \\\\\n",
      "classic-nps & 0.39 & 0.10 & 0.07 & 0.05 & 0.03 & 0.03 & 0.02 \\\\\n",
      "nnc & 0.34 & 0.12 & 0.15 & 0.13 & - & - & - \\\\\n",
      "\\bottomrule\n",
      "\\end{tabular}\n",
      "\n"
     ]
    }
   ],
   "source": [
    "print(table.to_latex(float_format=\"%.2f\", na_rep='-', columns=[1,2,3,4,5,6,7]))"
   ]
  },
  {
   "cell_type": "code",
   "execution_count": 9,
   "metadata": {},
   "outputs": [
    {
     "data": {
      "image/png": "[encoded data removed]",
      "text/plain": [
       "<Figure size 700x250 with 2 Axes>"
      ]
     },
     "metadata": {},
     "output_type": "display_data"
    }
   ],
   "source": [
    "fig, ax = plt.subplots(figsize=(7, 2.5))\n",
    "sns.heatmap(table, annot=True, fmt='.2f', cmap='Greys', ax=ax)\n",
    "plt.yticks(rotation=0)\n",
    "plt.show()"
   ]
  },
  {
   "cell_type": "markdown",
   "metadata": {},
   "source": [
    "## Variation on ambiguous token when disambigating token is observed\n",
    "\n",
    "Now we use the ambiguous stimuli to compute the average change that occurs on the ambiguous token(s) when the disambiguating token/region is integrated.\n",
    "\n",
    "For the classic cases, two options. Here, we look at what happens at the first verb when one token after the first disambiguating token is obverved. This makes sense, because only the first disambiguating token may not be enough for the model to construct a valid interpretation."
   ]
  },
  {
   "cell_type": "code",
   "execution_count": 10,
   "metadata": {},
   "outputs": [
    {
     "name": "stderr",
     "output_type": "stream",
     "text": [
      "nnc: 100%|██████████| 534/534 [00:00<00:00, 21956.91it/s]\n",
      "classic-nps: 100%|██████████| 38/38 [00:00<00:00, 19446.50it/s]\n",
      "classic-mvrr: 100%|██████████| 40/40 [00:00<00:00, 19341.96it/s]\n"
     ]
    }
   ],
   "source": [
    "objs = get_objects(sentence_type='stimulus')\n",
    "\n",
    "variations = []\n",
    "\n",
    "for source, states_dic in objs.items():\n",
    "    source_df = data_df[data_df.source == source]\n",
    "    for key, obj in states_dic.items():\n",
    "        \n",
    "        idx = int(key.split('_')[0])\n",
    "        ambiguous_token = source_df.loc[idx].amb_position_ambiguous\n",
    "        disambiguating = source_df.loc[idx].disamb_position_ambiguous\n",
    "\n",
    "        if source in ('classic-nps', 'classic-mvrr'):\n",
    "            # we look at one token after the verb, because there seems to be a\n",
    "            # delay of one step in understanding that the second verb disambiguates\n",
    "            disambiguating = int(disambiguating) + 1\n",
    "\n",
    "            # add +1 or +2 to the ambiguous token position to consider the det and noun\n",
    "            # as the ambiguous token, respectively\n",
    "            # ambiguous_token = int(ambiguous_token) + 2\n",
    "\n",
    "        variation = obj.inc_charts[REFERENCE][SELECTED_LAYER][int(disambiguating)][int(ambiguous_token)]\n",
    "        variations.append((source, variation))"
   ]
  },
  {
   "cell_type": "code",
   "execution_count": 11,
   "metadata": {},
   "outputs": [
    {
     "data": {
      "text/html": [
       "<div>\n",
       "<style scoped>\n",
       "    .dataframe tbody tr th:only-of-type {\n",
       "        vertical-align: middle;\n",
       "    }\n",
       "\n",
       "    .dataframe tbody tr th {\n",
       "        vertical-align: top;\n",
       "    }\n",
       "\n",
       "    .dataframe thead th {\n",
       "        text-align: right;\n",
       "    }\n",
       "</style>\n",
       "<table border=\"1\" class=\"dataframe\">\n",
       "  <thead>\n",
       "    <tr style=\"text-align: right;\">\n",
       "      <th></th>\n",
       "      <th>value</th>\n",
       "    </tr>\n",
       "    <tr>\n",
       "      <th>source</th>\n",
       "      <th></th>\n",
       "    </tr>\n",
       "  </thead>\n",
       "  <tbody>\n",
       "    <tr>\n",
       "      <th>classic-mvrr</th>\n",
       "      <td>0.146475</td>\n",
       "    </tr>\n",
       "    <tr>\n",
       "      <th>classic-nps</th>\n",
       "      <td>0.157802</td>\n",
       "    </tr>\n",
       "    <tr>\n",
       "      <th>nnc</th>\n",
       "      <td>0.409570</td>\n",
       "    </tr>\n",
       "  </tbody>\n",
       "</table>\n",
       "</div>"
      ],
      "text/plain": [
       "                 value\n",
       "source                \n",
       "classic-mvrr  0.146475\n",
       "classic-nps   0.157802\n",
       "nnc           0.409570"
      ]
     },
     "execution_count": 11,
     "metadata": {},
     "output_type": "execute_result"
    }
   ],
   "source": [
    "df = pd.DataFrame(variations, columns=['source', 'value'])\n",
    "\n",
    "table = df.groupby(['source']).mean()\n",
    "table"
   ]
  }
 ],
 "metadata": {
  "kernelspec": {
   "display_name": "restart-inc",
   "language": "python",
   "name": "python3"
  },
  "language_info": {
   "codemirror_mode": {
    "name": "ipython",
    "version": 3
   },
   "file_extension": ".py",
   "mimetype": "text/x-python",
   "name": "python",
   "nbconvert_exporter": "python",
   "pygments_lexer": "ipython3",
   "version": "3.9.18"
  }
 },
 "nbformat": 4,
 "nbformat_minor": 2
}
