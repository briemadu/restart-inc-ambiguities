{
 "cells": [
  {
   "cell_type": "code",
   "execution_count": 8,
   "metadata": {},
   "outputs": [],
   "source": [
    "from pathlib import Path\n",
    "import pandas as pd\n",
    "import json"
   ]
  },
  {
   "cell_type": "code",
   "execution_count": 2,
   "metadata": {},
   "outputs": [],
   "source": [
    "DATA_PATH = './outputs/preprocessed_stimuli.csv'"
   ]
  },
  {
   "cell_type": "code",
   "execution_count": 3,
   "metadata": {},
   "outputs": [],
   "source": [
    "data_df = pd.read_csv(DATA_PATH, index_col=0)"
   ]
  },
  {
   "cell_type": "code",
   "execution_count": 4,
   "metadata": {},
   "outputs": [
    {
     "data": {
      "text/plain": [
       "source\n",
       "nnc                        281\n",
       "classic-mvrr                24\n",
       "classic-mvrr_for-causal     24\n",
       "classic-nps                 24\n",
       "classic-nps_for-causal      24\n",
       "Name: count, dtype: int64"
      ]
     },
     "execution_count": 4,
     "metadata": {},
     "output_type": "execute_result"
    }
   ],
   "source": [
    "data_df.value_counts('source')"
   ]
  },
  {
   "cell_type": "code",
   "execution_count": 7,
   "metadata": {},
   "outputs": [],
   "source": []
  },
  {
   "cell_type": "code",
   "execution_count": 21,
   "metadata": {},
   "outputs": [
    {
     "name": "stdout",
     "output_type": "stream",
     "text": [
      "['outputs/embeddings/bert', 'classic-nps', 'for-causal'] :  5\n",
      "['outputs/embeddings/bert', 'classic-mvrr', 'for-causal'] :  4\n",
      "['outputs/embeddings/roberta', 'classic-mvrr'] :  0\n",
      "['outputs/embeddings/bert', 'classic-nps'] :  5\n",
      "['outputs/embeddings/opt', 'classic-nps', 'for-causal'] :  1\n",
      "['outputs/embeddings/gpt2', 'classic-mvrr'] :  0\n",
      "['outputs/embeddings/opt', 'classic-mvrr', 'for-causal'] :  0\n",
      "['outputs/embeddings/gpt2', 'classic-nps', 'for-causal'] :  1\n",
      "['outputs/embeddings/roberta', 'nnc'] :  23\n",
      "['outputs/embeddings/opt', 'nnc'] :  23\n",
      "['outputs/embeddings/roberta', 'classic-nps'] :  1\n",
      "['outputs/embeddings/bert', 'classic-mvrr'] :  4\n",
      "['outputs/embeddings/gpt2', 'classic-nps'] :  1\n",
      "['outputs/embeddings/gpt2', 'classic-mvrr', 'for-causal'] :  0\n",
      "['outputs/embeddings/opt', 'classic-nps'] :  1\n",
      "['outputs/embeddings/opt', 'classic-mvrr'] :  0\n",
      "['outputs/embeddings/roberta', 'classic-mvrr', 'for-causal'] :  0\n",
      "['outputs/embeddings/gpt2', 'nnc'] :  23\n",
      "['outputs/embeddings/bert', 'nnc'] :  14\n",
      "['outputs/embeddings/roberta', 'classic-nps', 'for-causal'] :  1\n"
     ]
    }
   ],
   "source": [
    "pathlist = Path('outputs/embeddings').glob('**/*.json')\n",
    "for path in pathlist:\n",
    "    with open(path, 'r') as file:\n",
    "        data = json.load(file)\n",
    "\n",
    "    print(str(path).split('_')[:-1], ': ', len(data))"
   ]
  },
  {
   "cell_type": "code",
   "execution_count": null,
   "metadata": {},
   "outputs": [],
   "source": []
  }
 ],
 "metadata": {
  "kernelspec": {
   "display_name": "restart-inc",
   "language": "python",
   "name": "python3"
  },
  "language_info": {
   "codemirror_mode": {
    "name": "ipython",
    "version": 3
   },
   "file_extension": ".py",
   "mimetype": "text/x-python",
   "name": "python",
   "nbconvert_exporter": "python",
   "pygments_lexer": "ipython3",
   "version": "3.9.18"
  }
 },
 "nbformat": 4,
 "nbformat_minor": 2
}
