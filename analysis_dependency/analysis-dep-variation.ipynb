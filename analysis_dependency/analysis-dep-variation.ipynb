{
 "cells": [
  {
   "cell_type": "code",
   "execution_count": 1,
   "id": "79118967-083a-4143-a035-3b2729a32ade",
   "metadata": {},
   "outputs": [],
   "source": [
    "import sys; sys.path.insert(0, '..')"
   ]
  },
  {
   "cell_type": "code",
   "execution_count": 2,
   "id": "0f1bb29a-0879-423a-ad17-47e48e480748",
   "metadata": {},
   "outputs": [],
   "source": [
    "import pickle\n",
    "import numpy as np\n",
    "import seaborn as sns\n",
    "import matplotlib.pyplot as plt\n",
    "import torch\n",
    "import math\n",
    "import sklearn.metrics as metrics\n",
    "import statistics\n",
    "\n",
    "from fields import IncParseField\n",
    "from scipy.stats import entropy"
   ]
  },
  {
   "cell_type": "code",
   "execution_count": 3,
   "id": "b16447ff-9890-4e56-bee8-88ab0cb67790",
   "metadata": {},
   "outputs": [],
   "source": [
    "biaffine = './outputs/preprocessed_dep-biaffine-roberta-en.pkl'\n",
    "\n",
    "with open(biaffine, 'rb') as f:\n",
    "    biaffine_data = pickle.load(f)\n",
    "\n",
    "biaffine_parse = [IncParseField(biaffine_data[idx]) for idx in range(len(biaffine_data))]"
   ]
  },
  {
   "cell_type": "code",
   "execution_count": 4,
   "id": "7d8619bf-52e9-417d-b85c-7074e8a00344",
   "metadata": {},
   "outputs": [],
   "source": [
    "def compute_ent(parse):\n",
    "    '''\n",
    "    Compute Shannon/self entropy for dependency arcs.\n",
    "    '''\n",
    "    token_len = len(parse['arc_attn'])\n",
    "    ent_tensor = torch.full((token_len, token_len), float('Inf'))\n",
    "\n",
    "    for step in range(token_len):\n",
    "        self_ent = entropy(parse['arc_attn'][step].numpy(), axis=1)\n",
    "        ent_tensor[step][:step+1] = torch.from_numpy(self_ent)\n",
    "    return ent_tensor\n",
    "\n",
    "def compute_var(ent_tensor):\n",
    "    '''\n",
    "    Compute variation (effect of the (t+X)th token against t).\n",
    "    '''\n",
    "    diff_tensor = torch.full_like(ent_tensor, 0)\n",
    "\n",
    "    for step in range(1, diff_tensor.size(0)):\n",
    "        diff_tensor[step][:step] = torch.abs(ent_tensor[step][:step] - ent_tensor[step-1][:step])\n",
    "\n",
    "    return diff_tensor"
   ]
  },
  {
   "cell_type": "markdown",
   "id": "c7cda73b-1bcb-4dd6-8647-43114664af4d",
   "metadata": {},
   "source": [
    "## Variation\n",
    "We compute the variation of entropy of the arc distribution with respect to the previous state, using the biaffine parser with RoBERTa. Through this, we measure the effect how much on average token $t+i, i=1, ..., T$ impacts $t$. We only use the unambiguous stimuli here."
   ]
  },
  {
   "cell_type": "markdown",
   "id": "4afffb99-709d-4fc7-b8cc-761f23e884f4",
   "metadata": {},
   "source": [
    "## NNC"
   ]
  },
  {
   "cell_type": "code",
   "execution_count": 5,
   "id": "6ad5b11a-6beb-4808-969a-d0540f94a686",
   "metadata": {},
   "outputs": [
    {
     "name": "stdout",
     "output_type": "stream",
     "text": [
      "t+1: 0.14\n",
      "t+2: 0.21\n",
      "t+3: 0.29\n",
      "t+4: 0.08\n"
     ]
    }
   ],
   "source": [
    "T = 4 # Only 5 tokens for NNC baseline\n",
    "NNC_var_dict = {t: [] for t in range(1,T+1)}\n",
    "\n",
    "for field in biaffine_parse:\n",
    "    if field.source == 'nnc':\n",
    "        \n",
    "        baseline = field.parses['baseline']\n",
    "        baseline_ent_self = compute_var(compute_ent(baseline))     \n",
    "\n",
    "        for t in range(1, T+1):\n",
    "            NNC_var_dict[t].append(baseline_ent_self.diagonal(-t))\n",
    "        \n",
    "for key, value in NNC_var_dict.items():\n",
    "    mean = torch.mean(torch.cat(value)).item()\n",
    "    print('t+{}: {:.2f}'.format(key, mean))"
   ]
  },
  {
   "cell_type": "markdown",
   "id": "bb00d403-1133-410a-816a-51dea69acfd0",
   "metadata": {},
   "source": [
    "## NP/S"
   ]
  },
  {
   "cell_type": "code",
   "execution_count": 6,
   "id": "9079859e-4509-4dda-9bc8-46b7c349430f",
   "metadata": {},
   "outputs": [
    {
     "name": "stdout",
     "output_type": "stream",
     "text": [
      "t+1: 0.19\n",
      "t+2: 0.06\n",
      "t+3: 0.05\n",
      "t+4: 0.01\n",
      "t+5: 0.00\n",
      "t+6: 0.00\n",
      "t+7: 0.00\n",
      "t+8: 0.00\n",
      "t+9: 0.00\n",
      "t+10: 0.00\n"
     ]
    }
   ],
   "source": [
    "T = 10\n",
    "NPS_var_dict = {t: [] for t in range(1,T+1)}\n",
    "\n",
    "for field in biaffine_parse:\n",
    "    if field.source == 'classic-nps':\n",
    "        \n",
    "        baseline = field.parses['baseline']\n",
    "        baseline_ent_self = compute_var(compute_ent(baseline))           \n",
    "\n",
    "        for t in range(1, T+1):\n",
    "            NPS_var_dict[t].append(baseline_ent_self.diagonal(-t))\n",
    "\n",
    "for key, value in NPS_var_dict.items():\n",
    "    mean = torch.mean(torch.cat(value)).item()\n",
    "    print('t+{}: {:.2f}'.format(key, mean))"
   ]
  },
  {
   "cell_type": "markdown",
   "id": "221e3027-131e-413c-b4a1-322cddef5a08",
   "metadata": {},
   "source": [
    "## MVRR"
   ]
  },
  {
   "cell_type": "code",
   "execution_count": 7,
   "id": "b0c1dbfe-63ec-4c18-a3bc-b887a810a48f",
   "metadata": {},
   "outputs": [
    {
     "name": "stdout",
     "output_type": "stream",
     "text": [
      "t+1: 0.11\n",
      "t+2: 0.02\n",
      "t+3: 0.01\n",
      "t+4: 0.02\n",
      "t+5: 0.01\n",
      "t+6: 0.00\n",
      "t+7: 0.00\n",
      "t+8: 0.00\n",
      "t+9: 0.00\n",
      "t+10: 0.00\n"
     ]
    }
   ],
   "source": [
    "T = 10\n",
    "MVRR_var_dict = {t: [] for t in range(1,T+1)}\n",
    "\n",
    "for field in biaffine_parse:\n",
    "    if field.source == 'classic-mvrr':\n",
    "        \n",
    "        baseline = field.parses['baseline']\n",
    "        baseline_ent_prev = compute_var(compute_ent(baseline))  \n",
    "\n",
    "        for t in range(1, T+1):\n",
    "            MVRR_var_dict[t].append(baseline_ent_prev.diagonal(-t))\n",
    "\n",
    "\n",
    "for key, value in MVRR_var_dict.items():\n",
    "    mean = torch.mean(torch.cat(value)).item()\n",
    "    print('t+{}: {:.2f}'.format(key, mean))"
   ]
  }
 ],
 "metadata": {
  "kernelspec": {
   "display_name": "garden-path",
   "language": "python",
   "name": "garden-path"
  },
  "language_info": {
   "codemirror_mode": {
    "name": "ipython",
    "version": 3
   },
   "file_extension": ".py",
   "mimetype": "text/x-python",
   "name": "python",
   "nbconvert_exporter": "python",
   "pygments_lexer": "ipython3",
   "version": "3.9.18"
  }
 },
 "nbformat": 4,
 "nbformat_minor": 5
}
